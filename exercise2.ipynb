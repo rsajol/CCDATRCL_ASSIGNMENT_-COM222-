{
 "cells": [
  {
   "cell_type": "markdown",
   "metadata": {},
   "source": [
    "EXERCISE 2\n"
   ]
  },
  {
   "cell_type": "markdown",
   "metadata": {},
   "source": [
    "Pre-defined stack functions\n"
   ]
  },
  {
   "cell_type": "code",
   "execution_count": 40,
   "metadata": {},
   "outputs": [],
   "source": [
    "# Creating a stack\n",
    "def create_stack():\n",
    "    stack = []\n",
    "    return stack\n",
    "\n",
    "def print_stack(stack):\n",
    "\n",
    "    if (check_empty(stack)):\n",
    "            return \"stack is empty\"\n",
    "\n",
    "    # Create a copy of the stack and reverse the elements\n",
    "    tempStack = stack.copy()\n",
    "    tempStack.reverse()\n",
    "\n",
    "    # Print all elements using a loop\n",
    "    for i in tempStack:\n",
    "        print(i)\n",
    "\n",
    "    # Delete the copy to free up memory\n",
    "    del tempStack\n",
    "\n",
    "# Creating an empty stack\n",
    "def check_empty(stack):\n",
    "    return len(stack) == 0\n",
    "\n",
    "\n",
    "# Adding items into the stack\n",
    "def push(stack, item):\n",
    "    stack.append(item)\n",
    "    print(\"pushed item: \", item)\n",
    "\n",
    "\n",
    "# Removing an element from the stack\n",
    "def pop(stack):\n",
    "    if (check_empty(stack)):\n",
    "        return \"stack is empty\"\n",
    "\n",
    "    return stack.pop()\n",
    "\n",
    "def peek(stack):\n",
    "\n",
    "    # Use negative indexing to display the last element of the list\n",
    "    print(stack[-1])"
   ]
  },
  {
   "cell_type": "markdown",
   "metadata": {},
   "source": [
    "1. CREATE A BURGER STACK"
   ]
  },
  {
   "cell_type": "markdown",
   "metadata": {},
   "source": [
    "The output of the stack should be in this order:\n",
    "\n",
    "Bun\n",
    "\n",
    "Tomato\n",
    "\n",
    "Lettuce\n",
    "\n",
    "Cheese\n",
    "\n",
    "Patty\n",
    "\n",
    "Bun"
   ]
  },
  {
   "cell_type": "code",
   "execution_count": 41,
   "metadata": {},
   "outputs": [
    {
     "name": "stdout",
     "output_type": "stream",
     "text": [
      "pushed item:  Bun\n",
      "pushed item:  Patty\n",
      "pushed item:  Cheese\n",
      "pushed item:  Lettuce\n",
      "pushed item:  Tomato\n",
      "pushed item:  Bun\n"
     ]
    }
   ],
   "source": [
    "my_stack = create_stack()\n",
    "\n",
    "push(my_stack, \"Bun\")\n",
    "push(my_stack, \"Patty\")\n",
    "push(my_stack, \"Cheese\")\n",
    "push(my_stack, \"Lettuce\")\n",
    "push(my_stack, \"Tomato\")\n",
    "push(my_stack, \"Bun\")"
   ]
  },
  {
   "cell_type": "code",
   "execution_count": 42,
   "metadata": {},
   "outputs": [
    {
     "name": "stdout",
     "output_type": "stream",
     "text": [
      "Bun\n",
      "Tomato\n",
      "Lettuce\n",
      "Cheese\n",
      "Patty\n",
      "Bun\n"
     ]
    }
   ],
   "source": [
    "print_stack(my_stack)"
   ]
  },
  {
   "cell_type": "markdown",
   "metadata": {},
   "source": [
    "2. Reverse a string using a stack"
   ]
  },
  {
   "cell_type": "markdown",
   "metadata": {},
   "source": [
    "Given two stacks:\n",
    "\n",
    "name_stack = ['E', 'L', 'I', 'Z', 'E', 'R']\n",
    "\n",
    "reversed_stack = []\n",
    "\n",
    "Use your firstname and pop each letter from the name_stack and push each element into the reversed_stack\n",
    "\n",
    "Expected output:\n",
    "\n",
    "print(reversed_stack)\n",
    "\n",
    "['R', 'E', 'Z', 'I', 'L', 'E']"
   ]
  },
  {
   "cell_type": "code",
   "execution_count": 43,
   "metadata": {},
   "outputs": [
    {
     "name": "stdout",
     "output_type": "stream",
     "text": [
      "pushed item:  N\n",
      "pushed item:  N\n",
      "pushed item:  Y\n",
      "pushed item:  L\n",
      "pushed item:  I\n",
      "pushed item:  V\n",
      "pushed item:  O\n",
      "pushed item:  R\n"
     ]
    }
   ],
   "source": [
    "name_stack = ['R', 'O', 'V', 'I', 'L', 'Y', 'N', 'N']\n",
    "\n",
    "reversed_stack = []\n",
    "\n",
    "while len(name_stack) > 0:\n",
    "    \n",
    "    push(reversed_stack, pop(name_stack))"
   ]
  },
  {
   "cell_type": "code",
   "execution_count": 44,
   "metadata": {},
   "outputs": [
    {
     "name": "stdout",
     "output_type": "stream",
     "text": [
      "['N', 'N', 'Y', 'L', 'I', 'V', 'O', 'R'] "
     ]
    }
   ],
   "source": [
    "print(reversed_stack, end = \" \")"
   ]
  },
  {
   "cell_type": "markdown",
   "metadata": {},
   "source": [
    "3. Remove elements using a stack"
   ]
  },
  {
   "cell_type": "markdown",
   "metadata": {},
   "source": [
    "Given this stack:\n",
    "\n",
    "numbers = [1,2,3,4,5,6,7,8,9,10]\n",
    "\n",
    "new_stack = []\n",
    "\n",
    "Using the pop() function, push elements in the new_stack if they are an even number\n",
    "\n",
    "Expected output:\n",
    "\n",
    "print(new_stack)\n",
    "\n",
    "[2,4,6,8,10]"
   ]
  },
  {
   "cell_type": "code",
   "execution_count": 45,
   "metadata": {},
   "outputs": [
    {
     "name": "stdout",
     "output_type": "stream",
     "text": [
      "pushed item:  2\n",
      "pushed item:  4\n",
      "pushed item:  6\n",
      "pushed item:  8\n",
      "pushed item:  10\n"
     ]
    }
   ],
   "source": [
    "numbers = create_stack()\n",
    "\n",
    "numbers = [1,2,3,4,5,6,7,8,9,10]\n",
    "\n",
    "new_stack = []\n",
    "\n",
    "for i in numbers:\n",
    "    if i % 2 == 0:\n",
    "        temp = i\n",
    "        push(new_stack, temp)"
   ]
  },
  {
   "cell_type": "code",
   "execution_count": 46,
   "metadata": {},
   "outputs": [
    {
     "name": "stdout",
     "output_type": "stream",
     "text": [
      "[2, 4, 6, 8, 10]\n"
     ]
    }
   ],
   "source": [
    "print(new_stack)"
   ]
  },
  {
   "cell_type": "markdown",
   "metadata": {},
   "source": [
    "4. Inserting elements into a stack"
   ]
  },
  {
   "cell_type": "markdown",
   "metadata": {},
   "source": [
    "Given two stacks:\n",
    "\n",
    "my_stack = ['E', 'L', 'I', 'Z', 'E', 'R', 'P', 'O', 'N', 'I', 'O', 'J', 'R']\n",
    "\n",
    "empty_stack = []\n",
    "\n",
    "Use pop() to get each element from my_stack and use push() to insert the element to empty_stack only if:\n",
    "\n",
    "The element is a vowel\n",
    "The element does not exist in empty_stack\n",
    "Expected output:\n",
    "\n",
    "print_stack(empty_stack)\n",
    "\n",
    "['E', 'I', 'O']"
   ]
  },
  {
   "cell_type": "code",
   "execution_count": 47,
   "metadata": {},
   "outputs": [
    {
     "name": "stdout",
     "output_type": "stream",
     "text": [
      "pushed item:  E\n",
      "pushed item:  I\n",
      "pushed item:  O\n"
     ]
    }
   ],
   "source": [
    "my_stack = create_stack()\n",
    "\n",
    "my_stack = ['E', 'L', 'I', 'Z', 'E', 'R', 'P', 'O', 'N', 'I', 'O', 'J', 'R']\n",
    "\n",
    "vowels = \"AEIOUaeiou\"\n",
    "\n",
    "empty_stack = []\n",
    "\n",
    "for i in my_stack:\n",
    "    \n",
    "    if i in vowels:\n",
    "        \n",
    "        if i not in empty_stack:\n",
    "            \n",
    "            push(empty_stack, i)"
   ]
  },
  {
   "cell_type": "code",
   "execution_count": 48,
   "metadata": {},
   "outputs": [
    {
     "name": "stdout",
     "output_type": "stream",
     "text": [
      "['E', 'I', 'O']\n"
     ]
    }
   ],
   "source": [
    "print(empty_stack)"
   ]
  },
  {
   "cell_type": "markdown",
   "metadata": {},
   "source": [
    "5. Sort elements in a stack"
   ]
  },
  {
   "cell_type": "markdown",
   "metadata": {},
   "source": [
    "Given two stacks:\n",
    "\n",
    "number_stack = [3,1,2]\n",
    "\n",
    "sorted_stack = []\n",
    "\n",
    "Create a sort() function to pop each element from the number_stack and push each element into the sorted_stack. The elements in sorted_stack must be in ascending order.\n",
    "\n",
    "Expected output:\n",
    "\n",
    "print(sorted_stack)\n",
    "\n",
    "[1, 2, 3]"
   ]
  },
  {
   "cell_type": "code",
   "execution_count": 49,
   "metadata": {},
   "outputs": [
    {
     "name": "stdout",
     "output_type": "stream",
     "text": [
      "pushed item:  2\n",
      "pushed item:  2\n",
      "pushed item:  1\n",
      "pushed item:  2\n",
      "pushed item:  3\n"
     ]
    }
   ],
   "source": [
    "number_stack = [3, 1, 2]\n",
    "sorted_stack = create_stack()\n",
    "\n",
    "def sort(number_stack, sorted_stack):\n",
    "\n",
    "    while not check_empty(number_stack):\n",
    "        number = pop(number_stack)\n",
    "\n",
    "        while not check_empty(sorted_stack) and sorted_stack[-1] > number:     \n",
    "            push(number_stack, pop(sorted_stack))                              \n",
    "\n",
    "        push(sorted_stack, number)\n",
    "\n",
    "sort(number_stack, sorted_stack)"
   ]
  },
  {
   "cell_type": "code",
   "execution_count": 50,
   "metadata": {},
   "outputs": [
    {
     "name": "stdout",
     "output_type": "stream",
     "text": [
      "[1, 2, 3]\n"
     ]
    }
   ],
   "source": [
    "print(sorted_stack)"
   ]
  }
 ],
 "metadata": {
  "kernelspec": {
   "display_name": "Python 3",
   "language": "python",
   "name": "python3"
  },
  "language_info": {
   "codemirror_mode": {
    "name": "ipython",
    "version": 3
   },
   "file_extension": ".py",
   "mimetype": "text/x-python",
   "name": "python",
   "nbconvert_exporter": "python",
   "pygments_lexer": "ipython3",
   "version": "3.11.5"
  },
  "orig_nbformat": 4
 },
 "nbformat": 4,
 "nbformat_minor": 2
}
