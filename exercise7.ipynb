{
  "cells": [
    {
      "cell_type": "markdown",
      "metadata": {
        "id": "view-in-github",
        "colab_type": "text"
      },
      "source": [
        "<a href=\"https://colab.research.google.com/github/rsajol/CCDATRCL_ASSIGNMENT_-COM222-/blob/main/exercise7.ipynb\" target=\"_parent\"><img src=\"https://colab.research.google.com/assets/colab-badge.svg\" alt=\"Open In Colab\"/></a>"
      ]
    },
    {
      "cell_type": "markdown",
      "metadata": {
        "id": "e3Ja3uozAJlw"
      },
      "source": [
        "# Exercise 7"
      ]
    },
    {
      "cell_type": "code",
      "execution_count": 43,
      "metadata": {
        "id": "IW6uTwU8AJly"
      },
      "outputs": [],
      "source": [
        "class Node:\n",
        "    def __init__(self, item):\n",
        "        self.left = None\n",
        "        self.right = None\n",
        "        self.val = item"
      ]
    },
    {
      "cell_type": "code",
      "execution_count": 44,
      "metadata": {
        "id": "uxVFuimIAJlz"
      },
      "outputs": [],
      "source": [
        "def evaluateExpressionTree(root):\n",
        "\n",
        "    # empty tree\n",
        "    if root is None:\n",
        "        return 0\n",
        "\n",
        "    # leaf node\n",
        "    if root.left is None and root.right is None:\n",
        "        return int(root.val)\n",
        "\n",
        "    # evaluate left tree\n",
        "    left_sum = evaluateExpressionTree(root.left)\n",
        "\n",
        "    # evaluate right tree\n",
        "    right_sum = evaluateExpressionTree(root.right)\n",
        "\n",
        "    # check which operation to apply\n",
        "    if root.val == '+':\n",
        "        return left_sum + right_sum\n",
        "\n",
        "    elif root.val == '-':\n",
        "        return left_sum - right_sum\n",
        "\n",
        "    elif root.val == '*':\n",
        "        return left_sum * right_sum\n",
        "\n",
        "    else:\n",
        "        return left_sum // right_sum"
      ]
    },
    {
      "cell_type": "code",
      "execution_count": 45,
      "metadata": {
        "id": "-xWZXA-mAJl0"
      },
      "outputs": [],
      "source": [
        "def inorder(root):\n",
        "\n",
        "    if root:\n",
        "        # Traverse left\n",
        "        inorder(root.left)\n",
        "        # Traverse root\n",
        "        print(str(root.val) + \"->\", end='')\n",
        "        # Traverse right\n",
        "        inorder(root.right)"
      ]
    },
    {
      "cell_type": "markdown",
      "metadata": {
        "id": "CVtqxh5DAJl1"
      },
      "source": [
        "#### 1. Construct a binary expression tree\n",
        "\n",
        "$ (8 + 4) * (7 - 9) $"
      ]
    },
    {
      "cell_type": "code",
      "execution_count": 46,
      "metadata": {
        "id": "CxpP0zcVAJl1",
        "colab": {
          "base_uri": "https://localhost:8080/"
        },
        "outputId": "13ba989e-3af0-4fc7-e4ca-a08ef87922a4"
      },
      "outputs": [
        {
          "output_type": "stream",
          "name": "stdout",
          "text": [
            "8->+->4->*->7->-->9->"
          ]
        }
      ],
      "source": [
        "root = Node(\"*\")\n",
        "nodePlus= Node (\"+\")\n",
        "node1 = Node (\"8\")\n",
        "node2 = Node (\"4\")\n",
        "nodeMinus = Node (\"-\")\n",
        "node3 = Node (\"7\")\n",
        "node4 = Node (\"9\")\n",
        "\n",
        "root.left = nodePlus\n",
        "root.left.left = node1\n",
        "root.left.right = node2\n",
        "root.right = nodeMinus\n",
        "root.right.left = node3\n",
        "root.right.right = node4\n",
        "\n",
        "inorder(root)"
      ]
    },
    {
      "cell_type": "code",
      "source": [
        "evaluateExpressionTree(root)"
      ],
      "metadata": {
        "id": "v29b6StOD61E",
        "colab": {
          "base_uri": "https://localhost:8080/"
        },
        "outputId": "14ddfbb5-37a2-4eef-b616-eadf84107f66"
      },
      "execution_count": 47,
      "outputs": [
        {
          "output_type": "execute_result",
          "data": {
            "text/plain": [
              "-24"
            ]
          },
          "metadata": {},
          "execution_count": 47
        }
      ]
    },
    {
      "cell_type": "markdown",
      "metadata": {
        "id": "jc5KHLk6AJl2"
      },
      "source": [
        "#### 2. Construct a binary expression tree\n",
        "\n",
        "$ 5 / 8 + 3 - 6 * 1 $"
      ]
    },
    {
      "cell_type": "code",
      "execution_count": 48,
      "metadata": {
        "id": "XORzqkC3AJl2",
        "colab": {
          "base_uri": "https://localhost:8080/"
        },
        "outputId": "da5ffe02-da55-4d00-9380-beccec6d32e1"
      },
      "outputs": [
        {
          "output_type": "stream",
          "name": "stdout",
          "text": [
            "5->/->8->+->3->-->6->*->1->"
          ]
        }
      ],
      "source": [
        "root = Node (\"+\")\n",
        "nodeDivide = Node (\"/\")\n",
        "node1 = Node (\"5\")\n",
        "node2 = Node (\"8\")\n",
        "nodeMinus = Node (\"-\")\n",
        "node3 = Node (\"3\")\n",
        "nodeMultiply = Node (\"*\")\n",
        "node4 = Node (\"6\")\n",
        "node5 = Node (\"1\")\n",
        "\n",
        "root.left = nodeDivide\n",
        "root.left.left = node1\n",
        "root.left.right = node2\n",
        "root.right = nodeMinus\n",
        "root.right.left = node3\n",
        "root.right.right = nodeMultiply\n",
        "root.right.right.left = node4\n",
        "root.right.right.right = node5\n",
        "\n",
        "inorder(root)"
      ]
    },
    {
      "cell_type": "code",
      "source": [
        "evaluateExpressionTree(root)"
      ],
      "metadata": {
        "colab": {
          "base_uri": "https://localhost:8080/"
        },
        "id": "F95gFWy0LibD",
        "outputId": "bbdd044a-0978-4a99-aacb-9a4e43f1c294"
      },
      "execution_count": 49,
      "outputs": [
        {
          "output_type": "execute_result",
          "data": {
            "text/plain": [
              "-3"
            ]
          },
          "metadata": {},
          "execution_count": 49
        }
      ]
    },
    {
      "cell_type": "markdown",
      "metadata": {
        "id": "tu3n5ZdWAJl2"
      },
      "source": [
        "#### 3. Construct a binary expression tree\n",
        "\n",
        "$ ((2 + 5) / 3)- (3 + 8) $"
      ]
    },
    {
      "cell_type": "code",
      "execution_count": 52,
      "metadata": {
        "id": "5GvZBxgtAJl3",
        "colab": {
          "base_uri": "https://localhost:8080/"
        },
        "outputId": "151d48b3-aeba-48aa-a6b6-0e53330d8031"
      },
      "outputs": [
        {
          "output_type": "stream",
          "name": "stdout",
          "text": [
            "2->+->5->/->3->-->3->+->8->"
          ]
        }
      ],
      "source": [
        "root = Node (\"-\")\n",
        "nodeDivide = Node (\"/\")\n",
        "nodePlus = Node (\"+\")\n",
        "node1 = Node (\"2\")\n",
        "node2 = Node (\"5\")\n",
        "node3 = Node (\"3\")\n",
        "nodePlusRight = Node (\"+\")\n",
        "node4 = Node (\"3\")\n",
        "node5 = Node (\"8\")\n",
        "\n",
        "root.left = nodeDivide\n",
        "root.left.left = nodePlus\n",
        "root.left.left.left = node1\n",
        "root.left.left.right = node2\n",
        "root.left.right = node3\n",
        "root.right = nodePlusRight\n",
        "root.right.left = node4\n",
        "root.right.right = node5\n",
        "\n",
        "inorder(root)"
      ]
    },
    {
      "cell_type": "code",
      "source": [
        "evaluateExpressionTree(root)"
      ],
      "metadata": {
        "colab": {
          "base_uri": "https://localhost:8080/"
        },
        "id": "tAMZcJarOA_M",
        "outputId": "d15d3a5e-f7ca-4924-d027-8ac40db02f5c"
      },
      "execution_count": 51,
      "outputs": [
        {
          "output_type": "execute_result",
          "data": {
            "text/plain": [
              "-9"
            ]
          },
          "metadata": {},
          "execution_count": 51
        }
      ]
    }
  ],
  "metadata": {
    "kernelspec": {
      "display_name": "Python 3",
      "language": "python",
      "name": "python3"
    },
    "language_info": {
      "codemirror_mode": {
        "name": "ipython",
        "version": 3
      },
      "file_extension": ".py",
      "mimetype": "text/x-python",
      "name": "python",
      "nbconvert_exporter": "python",
      "pygments_lexer": "ipython3",
      "version": "3.11.4"
    },
    "orig_nbformat": 4,
    "colab": {
      "provenance": [],
      "include_colab_link": true
    }
  },
  "nbformat": 4,
  "nbformat_minor": 0
}