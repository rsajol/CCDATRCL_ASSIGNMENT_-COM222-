{
  "cells": [
    {
      "cell_type": "markdown",
      "metadata": {
        "id": "view-in-github",
        "colab_type": "text"
      },
      "source": [
        "<a href=\"https://colab.research.google.com/github/rsajol/CCDATRCL_ASSIGNMENT_-COM222-/blob/main/exercise5.ipynb\" target=\"_parent\"><img src=\"https://colab.research.google.com/assets/colab-badge.svg\" alt=\"Open In Colab\"/></a>"
      ]
    },
    {
      "cell_type": "markdown",
      "metadata": {
        "id": "5cNSi1B4qObR"
      },
      "source": [
        "# Exercise 5"
      ]
    },
    {
      "cell_type": "markdown",
      "metadata": {
        "id": "Px824RINqOba"
      },
      "source": [
        "#### 1. Create a dictionary of your 10 favorite songs."
      ]
    },
    {
      "cell_type": "markdown",
      "metadata": {
        "id": "sB2YVarMqObb"
      },
      "source": [
        "Example:\n",
        "\n",
        "|KEY|VALUE|\n",
        "|---|---|\n",
        "|001|My Love|\n",
        "|002|Like a rose|"
      ]
    },
    {
      "cell_type": "code",
      "execution_count": 36,
      "metadata": {
        "id": "8-QKg98EqObc",
        "colab": {
          "base_uri": "https://localhost:8080/"
        },
        "outputId": "7f2bf333-b051-4c65-d590-4935d6b59a75"
      },
      "outputs": [
        {
          "output_type": "stream",
          "name": "stdout",
          "text": [
            "{'001': 'Autumn', '002': 'Robbers', '003': 'Snooze', '004': 'Dear Reader', '005': 'Dial Drunk', '006': 'Miss Independent', '007': 'the 1', '008': 'August', '009': 'Urs', '010': 'What is Love?'}\n"
          ]
        }
      ],
      "source": [
        "mydictionary = {\n",
        "  \"001\": \"Autumn\",\n",
        "  \"002\": \"Robbers\",\n",
        "  \"003\": \"Snooze\",  \"004\": \"Dear Reader\",  \"005\": \"Dial Drunk\",  \"006\": \"Miss Independent\",  \"007\": \"the 1\",  \"008\": \"August\",  \"009\": \"Urs\",  \"010\": \"What is Love?\"\n",
        "}\n",
        "print(mydictionary)"
      ]
    },
    {
      "cell_type": "markdown",
      "metadata": {
        "id": "mwhuUpWjqObf"
      },
      "source": [
        "#### 2. Loop through the dictionary by its **key** and **value**"
      ]
    },
    {
      "cell_type": "code",
      "execution_count": 4,
      "metadata": {
        "id": "vwbytgnbqObg",
        "colab": {
          "base_uri": "https://localhost:8080/"
        },
        "outputId": "c3e3f0fd-f3e8-4c24-8f8f-924079f08658"
      },
      "outputs": [
        {
          "output_type": "stream",
          "name": "stdout",
          "text": [
            "001 Autumn\n",
            "002 Robbers\n",
            "003 Snooze\n",
            "004 Dear Reader\n",
            "005 Dial Drunk\n",
            "006 Miss Independent\n",
            "007 the 1\n",
            "008 August\n",
            "009 Urs\n",
            "010 What is Love?\n"
          ]
        }
      ],
      "source": [
        "for x, y in mydictionary.items():\n",
        "  print(x, y)"
      ]
    },
    {
      "cell_type": "markdown",
      "metadata": {
        "id": "WccwSheYqObh"
      },
      "source": [
        "#### 3. Add one additional song"
      ]
    },
    {
      "cell_type": "code",
      "source": [
        "mydictionary[\"011\"] = \"Kisapmata\"\n",
        "mydictionary"
      ],
      "metadata": {
        "colab": {
          "base_uri": "https://localhost:8080/"
        },
        "id": "zAHBUMfYs2Qu",
        "outputId": "5b0b3855-9d96-42ff-d074-c20193b286af"
      },
      "execution_count": 18,
      "outputs": [
        {
          "output_type": "execute_result",
          "data": {
            "text/plain": [
              "{'001': 'Autumn',\n",
              " '002': 'Robbers',\n",
              " '003': 'Snooze',\n",
              " '004': 'Dear Reader',\n",
              " '005': 'Dial Drunk',\n",
              " '006': 'Miss Independent',\n",
              " '007': 'the 1',\n",
              " '008': 'August',\n",
              " '009': 'Urs',\n",
              " '010': 'What is Love?',\n",
              " '011': 'Kisapmata'}"
            ]
          },
          "metadata": {},
          "execution_count": 18
        }
      ]
    },
    {
      "cell_type": "markdown",
      "metadata": {
        "id": "Q8AYUtGSqObj"
      },
      "source": [
        "#### 4. Remove one song"
      ]
    },
    {
      "cell_type": "code",
      "execution_count": 19,
      "metadata": {
        "id": "x66MSRknqObj",
        "colab": {
          "base_uri": "https://localhost:8080/"
        },
        "outputId": "786891c8-aa75-4b9e-f2b4-587a9d331a7b"
      },
      "outputs": [
        {
          "output_type": "execute_result",
          "data": {
            "text/plain": [
              "{'001': 'Autumn',\n",
              " '002': 'Robbers',\n",
              " '003': 'Snooze',\n",
              " '004': 'Dear Reader',\n",
              " '006': 'Miss Independent',\n",
              " '007': 'the 1',\n",
              " '008': 'August',\n",
              " '009': 'Urs',\n",
              " '010': 'What is Love?',\n",
              " '011': 'Kisapmata'}"
            ]
          },
          "metadata": {},
          "execution_count": 19
        }
      ],
      "source": [
        "mydictionary.pop(\"005\")\n",
        "mydictionary"
      ]
    },
    {
      "cell_type": "markdown",
      "metadata": {
        "id": "B5dzX2J0qObk"
      },
      "source": [
        "#### 5. Create a nested dictionary of your 10 favorite songs with 5 genres. Display all of the items of the nested dictionary\n",
        "\n",
        "- Each nested dictionary's key should be the genre of the song\n",
        "- Put each song in their respective genre"
      ]
    },
    {
      "cell_type": "markdown",
      "metadata": {
        "id": "HYWBhIczqObl"
      },
      "source": [
        "Example:\n",
        "\n",
        "\n",
        "|KEY|VALUE|\n",
        "|---|---|\n",
        "|Pop|{001, Baby}|\n",
        "|Rock|{001, Enter Sandman}|"
      ]
    },
    {
      "cell_type": "code",
      "execution_count": 35,
      "metadata": {
        "id": "NbM8N_MAqObl",
        "colab": {
          "base_uri": "https://localhost:8080/"
        },
        "outputId": "a83ca1d6-cc92-4bce-a75f-93455037628e"
      },
      "outputs": [
        {
          "output_type": "execute_result",
          "data": {
            "text/plain": [
              "{'Pop': {'001': 'Dear Reader', '002': 'the 1', '003': 'August'},\n",
              " 'Folk/Rock': {'001': 'Robbers', '002': 'Dial Drunk'},\n",
              " 'RnB': {'001': 'Miss Independent', '002': 'Snooze'},\n",
              " 'Kpop': {'001': 'What is Love?'},\n",
              " 'Alternative': {'001': 'urs', '002': 'Autumn'}}"
            ]
          },
          "metadata": {},
          "execution_count": 35
        }
      ],
      "source": [
        "mydictionary = {\n",
        "  \"Pop\" : {\n",
        "    \"001\" : \"Dear Reader\",\n",
        "    \"002\" : \"the 1\",\n",
        "    \"003\": \"August\"\n",
        "  },\n",
        "  \"Folk/Rock\" : {\n",
        "    \"001\" : \"Robbers\",\n",
        "    \"002\" : \"Dial Drunk\"\n",
        "  },\n",
        "  \"RnB\": {\n",
        "    \"001\" : \"Miss Independent\",\n",
        "    \"002\" : \"Snooze\"\n",
        "  },\n",
        "  \"Kpop\" : {\n",
        "    \"001\": \"What is Love?\"\n",
        "  },\n",
        "  \"Alternative\" : {\n",
        "    \"001\": \"urs\",\n",
        "    \"002\": \"Autumn\"\n",
        "  }\n",
        "}\n",
        "\n",
        "mydictionary"
      ]
    },
    {
      "cell_type": "markdown",
      "metadata": {
        "id": "228_-nc3qObm"
      },
      "source": [
        "#### 6. Print the first song of the first genre"
      ]
    },
    {
      "cell_type": "code",
      "execution_count": 33,
      "metadata": {
        "id": "sq0B2oasqObn",
        "colab": {
          "base_uri": "https://localhost:8080/"
        },
        "outputId": "39f58242-5123-41e0-c459-707aa351a81d"
      },
      "outputs": [
        {
          "output_type": "stream",
          "name": "stdout",
          "text": [
            "Dear Reader\n"
          ]
        }
      ],
      "source": [
        "print(mydictionary[\"Pop\"][\"001\"])"
      ]
    },
    {
      "cell_type": "markdown",
      "metadata": {
        "id": "Khs_VwkFqObn"
      },
      "source": [
        "#### 7. Print the first song of the last genre"
      ]
    },
    {
      "cell_type": "code",
      "execution_count": 34,
      "metadata": {
        "id": "w-UNhMVDqObo",
        "colab": {
          "base_uri": "https://localhost:8080/"
        },
        "outputId": "2eafe4a9-e54b-4dfe-d206-8f402ba1603c"
      },
      "outputs": [
        {
          "output_type": "stream",
          "name": "stdout",
          "text": [
            "urs\n"
          ]
        }
      ],
      "source": [
        "print(mydictionary[\"Alternative\"][\"001\"])"
      ]
    }
  ],
  "metadata": {
    "kernelspec": {
      "display_name": "Python 3",
      "language": "python",
      "name": "python3"
    },
    "language_info": {
      "codemirror_mode": {
        "name": "ipython",
        "version": 3
      },
      "file_extension": ".py",
      "mimetype": "text/x-python",
      "name": "python",
      "nbconvert_exporter": "python",
      "pygments_lexer": "ipython3",
      "version": "3.11.4"
    },
    "orig_nbformat": 4,
    "colab": {
      "provenance": [],
      "include_colab_link": true
    }
  },
  "nbformat": 4,
  "nbformat_minor": 0
}