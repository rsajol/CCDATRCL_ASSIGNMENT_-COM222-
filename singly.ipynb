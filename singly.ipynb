{
 "cells": [
  {
   "cell_type": "code",
   "execution_count": 3,
   "metadata": {},
   "outputs": [],
   "source": [
    "class Car:\n",
    "    \n",
    "    def __init__(self, price, color, hp):\n",
    "        self.price = price\n",
    "        self.color = color\n",
    "        self.horsepower = hp"
   ]
  },
  {
   "cell_type": "code",
   "execution_count": 8,
   "metadata": {},
   "outputs": [
    {
     "ename": "TypeError",
     "evalue": "Car.__init__() takes 1 positional argument but 4 were given",
     "output_type": "error",
     "traceback": [
      "\u001b[1;31m---------------------------------------------------------------------------\u001b[0m",
      "\u001b[1;31mTypeError\u001b[0m                                 Traceback (most recent call last)",
      "Cell \u001b[1;32mIn[8], line 1\u001b[0m\n\u001b[1;32m----> 1\u001b[0m sportscar \u001b[39m=\u001b[39m Car(\u001b[39m500000\u001b[39;49m, \u001b[39m\"\u001b[39;49m\u001b[39mred\u001b[39;49m\u001b[39m\"\u001b[39;49m, \u001b[39m200\u001b[39;49m)\n\u001b[0;32m      2\u001b[0m \u001b[39mprint\u001b[39m(sportscar\u001b[39m.\u001b[39mprice)\n\u001b[0;32m      3\u001b[0m \u001b[39mprint\u001b[39m(sportscar\u001b[39m.\u001b[39mcolor)\n",
      "\u001b[1;31mTypeError\u001b[0m: Car.__init__() takes 1 positional argument but 4 were given"
     ]
    }
   ],
   "source": [
    "sportscar = Car(500000, \"red\", 200)\n",
    "print(sportscar.price)\n",
    "print(sportscar.color)\n",
    "print(sportscar.horsepower)"
   ]
  }
 ],
 "metadata": {
  "kernelspec": {
   "display_name": "Python 3",
   "language": "python",
   "name": "python3"
  },
  "language_info": {
   "codemirror_mode": {
    "name": "ipython",
    "version": 3
   },
   "file_extension": ".py",
   "mimetype": "text/x-python",
   "name": "python",
   "nbconvert_exporter": "python",
   "pygments_lexer": "ipython3",
   "version": "3.11.5"
  },
  "orig_nbformat": 4
 },
 "nbformat": 4,
 "nbformat_minor": 2
}
