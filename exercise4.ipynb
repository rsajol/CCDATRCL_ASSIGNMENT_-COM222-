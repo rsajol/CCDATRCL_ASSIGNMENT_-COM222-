{
 "cells": [
  {
   "cell_type": "markdown",
   "metadata": {},
   "source": [
    "Exercise 4"
   ]
  },
  {
   "cell_type": "markdown",
   "metadata": {},
   "source": [
    "Pre-defined sorting algorithms"
   ]
  },
  {
   "cell_type": "code",
   "execution_count": 89,
   "metadata": {},
   "outputs": [],
   "source": [
    "def mergeSort(array):\n",
    "    merge_sort_num_steps = 0\n",
    "    if len(array) > 1:\n",
    "\n",
    "\n",
    "        #  r is the point where the array is divided into two subarrays\n",
    "        r = len(array)//2\n",
    "        L = array[:r]\n",
    "        M = array[r:]\n",
    "        \n",
    "\n",
    "        # Sort the two halves\n",
    "        mergeSort(L)\n",
    "        mergeSort(M)\n",
    "\n",
    "        i = j = k = 0\n",
    "        merge_sort_num_steps +=1\n",
    "\n",
    "        # Until we reach either end of either L or M, pick larger among\n",
    "        # elements L and M and place them in the correct position at A[p..r]\n",
    "        while i < len(L) and j < len(M):\n",
    "            \n",
    "            if L[i] < M[j]:\n",
    "                array[k] = L[i]\n",
    "                i += 1\n",
    "                \n",
    "                \n",
    "            else:\n",
    "                array[k] = M[j]\n",
    "                j += 1\n",
    "                \n",
    "            k += 1\n",
    "            merge_sort_num_steps +=1\n",
    "            \n",
    "\n",
    "        # When we run out of elements in either L or M,\n",
    "        # pick up the remaining elements and put in A[p..r]\n",
    "        while i < len(L):\n",
    "            array[k] = L[i]\n",
    "            i += 1\n",
    "            k += 1\n",
    "            \n",
    "            \n",
    "\n",
    "        while j < len(M):\n",
    "            array[k] = M[j]\n",
    "            j += 1\n",
    "            k += 1\n",
    "            merge_sort_num_steps +=1\n",
    "            \n",
    "\n",
    "    return merge_sort_num_steps\n",
    "\n",
    "# Print the array\n",
    "def printList(array):\n",
    "    for i in range(len(array)):\n",
    "        print(array[i], end=\" \")\n",
    "    print()"
   ]
  },
  {
   "cell_type": "code",
   "execution_count": 90,
   "metadata": {},
   "outputs": [],
   "source": [
    "def countingSort(array):\n",
    "    counting_sort_num_steps = 0\n",
    "    \n",
    "    size = len(array)\n",
    "    output = [0] * size\n",
    "\n",
    "    # Initialize count array\n",
    "    count = [0] * 10\n",
    "    counting_sort_num_steps +=1\n",
    "    \n",
    "\n",
    "    # Store the count of each elements in count array\n",
    "    for i in range(0, size):\n",
    "        count[array[i]] += 1\n",
    "        counting_sort_num_steps += 1\n",
    "\n",
    "    # Store the cummulative count\n",
    "    for i in range(1, 10):\n",
    "        count[i] += count[i - 1]\n",
    "        counting_sort_num_steps += 1\n",
    "\n",
    "    # Find the index of each element of the original array in count array\n",
    "    # place the elements in output array\n",
    "    i = size - 1\n",
    "    while i >= 0:\n",
    "        output[count[array[i]] - 1] = array[i]\n",
    "        count[array[i]] -= 1\n",
    "        i -= 1\n",
    "        counting_sort_num_steps += 1\n",
    "        \n",
    "\n",
    "    # Copy the sorted elements into original array\n",
    "    for i in range(0, size):\n",
    "        array[i] = output[i]\n",
    "        counting_sort_num_steps += 1\n",
    "        \n",
    "    return counting_sort_num_steps"
   ]
  },
  {
   "cell_type": "code",
   "execution_count": 91,
   "metadata": {},
   "outputs": [],
   "source": [
    "def insertionSort(array):\n",
    "    steps = 0\n",
    "\n",
    "    for step in range(1, len(array)):\n",
    "        key = array[step]\n",
    "        j = step - 1\n",
    "        \n",
    "        # Compare key with each element on the left of it until an element smaller than it is found\n",
    "        # For descending order, change key<array[j] to key>array[j].\n",
    "        while j >= 0 and key < array[j]:\n",
    "            array[j + 1] = array[j]\n",
    "            j = j - 1\n",
    "            steps+= 1\n",
    "\n",
    "        # Place key at after the element just smaller than it.\n",
    "        array[j + 1] = key\n",
    "\n",
    "    return steps"
   ]
  },
  {
   "cell_type": "code",
   "execution_count": 92,
   "metadata": {},
   "outputs": [],
   "source": [
    "# Bubble sort in Python\n",
    "def bubbleSort(array):\n",
    "  swaps = 0 \n",
    "\n",
    "  # loop to access each array element\n",
    "  for i in range(len(array)):\n",
    "\n",
    "    # loop to compare array elements\n",
    "    for j in range(0, len(array) - i - 1):\n",
    "\n",
    "      # compare two adjacent elements\n",
    "      # change > to < to sort in descending order\n",
    "      if array[j] > array[j + 1]:\n",
    "\n",
    "        # swapping elements if elements\n",
    "        # are not in the intended order\n",
    "        temp = array[j]\n",
    "        array[j] = array[j+1]\n",
    "        array[j+1] = temp\n",
    "        swaps += 1\n",
    "\n",
    "  return swaps"
   ]
  },
  {
   "cell_type": "markdown",
   "metadata": {},
   "source": [
    "1. Sort your student number in ascending order\n",
    "Example:\n",
    "\n",
    "Input: 2022123456\n",
    "\n",
    "Output: 0122223456"
   ]
  },
  {
   "cell_type": "code",
   "execution_count": 93,
   "metadata": {},
   "outputs": [
    {
     "name": "stdout",
     "output_type": "stream",
     "text": [
      "0012223334\n"
     ]
    }
   ],
   "source": [
    "student_number = \"2022103334\"\n",
    "\n",
    "digits = list(student_number)\n",
    "\n",
    "digits.sort()\n",
    "\n",
    "sorted_student_number = ''.join(digits)\n",
    "\n",
    "print(sorted_student_number)"
   ]
  },
  {
   "cell_type": "markdown",
   "metadata": {},
   "source": [
    "2. Sort the dates in ascending order.\n",
    "dates = [\"12-25-2023\", birthday, \"01-01-2023\"]\n",
    "\n",
    "Enter your birthday in the birthday variable."
   ]
  },
  {
   "cell_type": "code",
   "execution_count": 94,
   "metadata": {},
   "outputs": [
    {
     "name": "stdout",
     "output_type": "stream",
     "text": [
      "['01-09-2004', '01-01-2023', '12-25-2023']\n"
     ]
    }
   ],
   "source": [
    "birthday = \"01-09-2004\"\n",
    "\n",
    "\n",
    "dates = [birthday, \"01-01-2023\", \"12-25-2023\"]\n",
    "\n",
    "def date_to_numeric(date):\n",
    "\n",
    "    parts = date.split(\"-\")\n",
    "    return int(parts[2]) * 10000 + int(parts[0]) * 100 + int(parts[1])\n",
    "\n",
    "def selection_sort(dates):\n",
    "    n = len(dates)\n",
    "\n",
    "    for i in range(n):\n",
    "        min_index = i\n",
    "\n",
    "        for j in range(i + 1, n):\n",
    "            if date_to_numeric(dates[j]) < date_to_numeric(dates[min_index]):\n",
    "                min_index = j\n",
    "\n",
    "        dates[i], dates[min_index] = dates[min_index], dates[i]\n",
    "\n",
    "selection_sort(dates)\n",
    "\n",
    "\n",
    "print( dates)"
   ]
  },
  {
   "cell_type": "markdown",
   "metadata": {},
   "source": [
    "3. Count the total number of swaps to sort the list below using Bubble Sort\n",
    "3\t2\t5\t1\t4\n"
   ]
  },
  {
   "cell_type": "code",
   "execution_count": 95,
   "metadata": {},
   "outputs": [
    {
     "name": "stdout",
     "output_type": "stream",
     "text": [
      "\n",
      "Sorted list: [1, 2, 3, 4, 5]\n",
      "Total number of swaps: 5\n",
      "\n"
     ]
    }
   ],
   "source": [
    "data = [3, 2, 5, 1, 4]\n",
    "\n",
    "totalswaps = bubbleSort(data)\n",
    "\n",
    "swap = f\"\"\"\n",
    "Sorted list: {data}\n",
    "Total number of swaps: {totalswaps}\n",
    "\"\"\"\n",
    "\n",
    "print(swap)"
   ]
  },
  {
   "cell_type": "markdown",
   "metadata": {},
   "source": [
    "4. Count the total number of steps to sort the list below using Insertion Sort\n",
    "6\t2\t5\t7\t4\t1\t8\t9\t3\n"
   ]
  },
  {
   "cell_type": "code",
   "execution_count": 96,
   "metadata": {},
   "outputs": [
    {
     "name": "stdout",
     "output_type": "stream",
     "text": [
      "\n",
      "Sorted list: [1, 2, 3, 4, 5, 6, 7, 8, 9]\n",
      "Total number of swaps: 16\n",
      "\n"
     ]
    }
   ],
   "source": [
    "data = [6, 2, 5, 7, 4, 1, 8, 9, 3]\n",
    "\n",
    "numberofsteps = insertionSort(data)\n",
    "\n",
    "steps = f\"\"\"\n",
    "Sorted list: {data}\n",
    "Total number of swaps: {numberofsteps}\n",
    "\"\"\"\n",
    "\n",
    "print(steps)"
   ]
  },
  {
   "cell_type": "markdown",
   "metadata": {},
   "source": [
    "5. Given the list below:\n",
    "7\t5\t4\t3\t2\t5\t1\t8\n",
    "Using merge sort and counting sort\n",
    "\n",
    "Determine which sorting algorithm is faster by counting the total number of steps for each algorithm"
   ]
  },
  {
   "cell_type": "code",
   "execution_count": 97,
   "metadata": {},
   "outputs": [
    {
     "name": "stdout",
     "output_type": "stream",
     "text": [
      "\n",
      "Sorted list: [1, 2, 3, 4, 5, 5, 7, 8]\n",
      "Total number of steps for Merge Sort: 9\n",
      "\n",
      "Total number of steps for Counting Sort 34\n",
      "Merge sort is faster\n"
     ]
    }
   ],
   "source": [
    "data = [7, 5, 4, 3, 2, 5, 1, 8]\n",
    "\n",
    "\n",
    "merge_sort_num_steps = mergeSort(data)\n",
    "counting_sort_num_steps = countingSort(data)\n",
    "\n",
    "\n",
    "s = f\"\"\"\n",
    "Sorted list: {data}\n",
    "Total number of steps for Merge Sort: {merge_sort_num_steps}\n",
    "\"\"\"\n",
    "\n",
    "print(s)\n",
    "\n",
    "print(\"Total number of steps for Counting Sort\", counting_sort_num_steps)\n",
    "\n",
    "\n",
    "if merge_sort_num_steps < counting_sort_num_steps:\n",
    "    print(\"Merge sort is faster\")\n",
    "else:\n",
    "    print(\"counting sort is faster\")\n"
   ]
  }
 ],
 "metadata": {
  "kernelspec": {
   "display_name": "Python 3",
   "language": "python",
   "name": "python3"
  },
  "language_info": {
   "codemirror_mode": {
    "name": "ipython",
    "version": 3
   },
   "file_extension": ".py",
   "mimetype": "text/x-python",
   "name": "python",
   "nbconvert_exporter": "python",
   "pygments_lexer": "ipython3",
   "version": "3.11.5"
  },
  "orig_nbformat": 4
 },
 "nbformat": 4,
 "nbformat_minor": 2
}
