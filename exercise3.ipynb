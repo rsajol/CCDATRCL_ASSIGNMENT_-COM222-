{
 "cells": [
  {
   "cell_type": "markdown",
   "metadata": {},
   "source": [
    "Exercise 3"
   ]
  },
  {
   "cell_type": "markdown",
   "metadata": {},
   "source": [
    "Pre-defined classes"
   ]
  },
  {
   "cell_type": "markdown",
   "metadata": {},
   "source": [
    "Pre-defined Queue class"
   ]
  },
  {
   "cell_type": "code",
   "execution_count": 3,
   "metadata": {},
   "outputs": [],
   "source": [
    "class Queue:\n",
    "    def __init__(self):\n",
    "        self.queue = []\n",
    "\n",
    "    # Add an element\n",
    "    def enqueue(self, item):\n",
    "        self.queue.append(item)\n",
    "\n",
    "    # Remove an element\n",
    "    def dequeue(self):\n",
    "        if len(self.queue) < 1:\n",
    "            return None\n",
    "        return self.queue.pop(0)\n",
    "\n",
    "    # Display  the queue\n",
    "    def display(self):\n",
    "        print(self.queue)\n",
    "\n",
    "    def size(self):\n",
    "        return len(self.queue)\n",
    "\n",
    "    def peek(self):\n",
    "        return self.queue[0]"
   ]
  },
  {
   "cell_type": "markdown",
   "metadata": {},
   "source": [
    "Pre-defined Deque class"
   ]
  },
  {
   "cell_type": "code",
   "execution_count": 4,
   "metadata": {},
   "outputs": [],
   "source": [
    "class Deque:\n",
    "    def __init__(self):\n",
    "        self.items = []\n",
    "\n",
    "    def isEmpty(self):\n",
    "        return self.items == []\n",
    "\n",
    "    def addRear(self, item):\n",
    "        self.items.append(item)\n",
    "\n",
    "    def addFront(self, item):\n",
    "        self.items.insert(0, item)\n",
    "\n",
    "    def removeFront(self):\n",
    "        return self.items.pop(0)\n",
    "\n",
    "    def removeRear(self):\n",
    "        return self.items.pop()\n",
    "\n",
    "    def size(self):\n",
    "        return len(self.items)"
   ]
  },
  {
   "cell_type": "markdown",
   "metadata": {},
   "source": [
    "Pre-defined Circular Queue class"
   ]
  },
  {
   "cell_type": "code",
   "execution_count": 5,
   "metadata": {},
   "outputs": [],
   "source": [
    "class CircularQueue():\n",
    "\n",
    "    def __init__(self, k):\n",
    "        self.k = k\n",
    "        self.queue = [None] * k\n",
    "        self.head = self.tail = -1\n",
    "\n",
    "    # Insert an element into the circular queue\n",
    "    def enqueue(self, data):\n",
    "\n",
    "        if ((self.tail + 1) % self.k == self.head):\n",
    "            print(\"The circular queue is full\\n\")\n",
    "\n",
    "        elif (self.head == -1):\n",
    "            self.head = 0\n",
    "            self.tail = 0\n",
    "            self.queue[self.tail] = data\n",
    "        else:\n",
    "            self.tail = (self.tail + 1) % self.k\n",
    "            self.queue[self.tail] = data\n",
    "\n",
    "    # Delete an element from the circular queue\n",
    "    def dequeue(self):\n",
    "        if (self.head == -1):\n",
    "            print(\"The circular queue is empty\\n\")\n",
    "\n",
    "        elif (self.head == self.tail):\n",
    "            temp = self.queue[self.head]\n",
    "            self.head = -1\n",
    "            self.tail = -1\n",
    "            return temp\n",
    "        else:\n",
    "            temp = self.queue[self.head]\n",
    "            self.head = (self.head + 1) % self.k\n",
    "            return temp\n",
    "\n",
    "    def printCQueue(self):\n",
    "        if(self.head == -1):\n",
    "            print(\"No element in the circular queue\")\n",
    "\n",
    "        elif (self.tail >= self.head):\n",
    "            for i in range(self.head, self.tail + 1):\n",
    "                print(self.queue[i], end=\" \")\n",
    "            print()\n",
    "        else:\n",
    "            for i in range(self.head, self.k):\n",
    "                print(self.queue[i], end=\" \")\n",
    "            for i in range(0, self.tail + 1):\n",
    "                print(self.queue[i], end=\" \")\n",
    "            print()"
   ]
  },
  {
   "cell_type": "markdown",
   "metadata": {},
   "source": [
    "Pre-defined Priority Queue Class"
   ]
  },
  {
   "cell_type": "code",
   "execution_count": 6,
   "metadata": {},
   "outputs": [],
   "source": [
    "class PriorityQueueNode:\n",
    "    def __init__(self, value, pr):\n",
    "\n",
    "        self.data = value\n",
    "        self.priority = pr\n",
    "        self.next = None\n",
    "class PriorityQueue:\n",
    "\n",
    "\tdef __init__(self):\n",
    "\n",
    "\t\tself.front = None\n",
    "\n",
    "\t# Method to check Priority Queue is Empty\n",
    "\t# or not if Empty then it will return True\n",
    "\t# Otherwise False\n",
    "\tdef isEmpty(self):\n",
    "\n",
    "\t\treturn True if self.front == None else False\n",
    "\n",
    "\t# Method to add items in Priority Queue\n",
    "\t# According to their priority value\n",
    "\tdef push(self, value, priority):\n",
    "\n",
    "\t\t# Condition check for checking Priority\n",
    "\t\t# Queue is empty or not\n",
    "\t\tif self.isEmpty() == True:\n",
    "\n",
    "\t\t\t# Creating a new node and assigning\n",
    "\t\t\t# it to class variable\n",
    "\t\t\tself.front = PriorityQueueNode(value, priority)\n",
    "\n",
    "\t\t\t# Returning 1 for successful execution\n",
    "\t\t\treturn 1\n",
    "\n",
    "\t\telse:\n",
    "\n",
    "\t\t\t# Special condition check to see that\n",
    "\t\t\t# first node priority value\n",
    "\t\t\tif self.front.priority > priority:\n",
    "\t\t\t\t# Creating a new node\n",
    "\t\t\t\tnewNode = PriorityQueueNode(value, priority)\n",
    "\t\t\t\t# Updating the new node next value\n",
    "\t\t\t\tnewNode.next = self.front\n",
    "\n",
    "\t\t\t\t# Assigning it to self.front\n",
    "\t\t\t\tself.front = newNode\n",
    "\n",
    "\t\t\t\t# Returning 1 for successful execution\n",
    "\t\t\t\treturn 1\n",
    "\n",
    "\t\t\telse:\n",
    "\n",
    "\t\t\t\t# Traversing through Queue until it\n",
    "\t\t\t\t# finds the next smaller priority node\n",
    "\t\t\t\ttemp = self.front\n",
    "\n",
    "\t\t\t\twhile temp.next:\n",
    "\t\t\t\t\t# If same priority node found then current\n",
    "\t\t\t\t\t# node will come after previous node\n",
    "\t\t\t\t\tif priority <= temp.next.priority:\n",
    "\t\t\t\t\t\tbreak\n",
    "\n",
    "\t\t\t\t\ttemp = temp.next\n",
    "\n",
    "\t\t\t\tnewNode = PriorityQueueNode(value, priority)\n",
    "\t\t\t\tnewNode.next = temp.next\n",
    "\t\t\t\ttemp.next = newNode\n",
    "\n",
    "\t\t\t\t# Returning 1 for successful execution\n",
    "\t\t\t\treturn 1\n",
    "\n",
    "\t# Method to remove high priority item\n",
    "\t# from the Priority Queue\n",
    "\tdef pop(self):\n",
    "\n",
    "\t\t# Condition check for checking\n",
    "\t\t# Priority Queue is empty or not\n",
    "\t\tif self.isEmpty() == True:\n",
    "\t\t\treturn\n",
    "\t\telse:\n",
    "\t\t\t# Removing high priority node from\n",
    "\t\t\t# Priority Queue, and updating front\n",
    "\t\t\t# with next node\n",
    "\t\t\tself.front = self.front.next\n",
    "\t\t\treturn 1\n",
    "\n",
    "\t# Method to return high priority node\n",
    "\t# value Not removing it\n",
    "\tdef peek(self):\n",
    "\t\t# Condition check for checking Priority\n",
    "\t\t# Queue is empty or not\n",
    "\t\tif self.isEmpty() == True:\n",
    "\t\t\treturn\n",
    "\t\telse:\n",
    "\t\t\treturn self.front.data\n",
    "\n",
    "\t# Method to Traverse through Priority\n",
    "\t# Queue\n",
    "\tdef traverse(self):\n",
    "\t\t# Condition check for checking Priority\n",
    "\t\t# Queue is empty or not\n",
    "\t\tif self.isEmpty() == True:\n",
    "\t\t\treturn \"Queue is Empty!\"\n",
    "\t\telse:\n",
    "\t\t\ttemp = self.front\n",
    "\t\t\twhile temp:\n",
    "\t\t\t\tprint(temp.data, end=\" \")\n",
    "\t\t\t\ttemp = temp.next"
   ]
  },
  {
   "cell_type": "markdown",
   "metadata": {},
   "source": [
    "1. Create a Queue"
   ]
  },
  {
   "cell_type": "code",
   "execution_count": 7,
   "metadata": {},
   "outputs": [
    {
     "name": "stdout",
     "output_type": "stream",
     "text": [
      "['Manjares', 'Rimon', 'Glodo', 'Liporada', 'Sajol']\n"
     ]
    }
   ],
   "source": [
    "blockmates = Queue()\n",
    "\n",
    "blockmates.enqueue(\"Manjares\")\n",
    "blockmates.enqueue(\"Rimon\")\n",
    "blockmates.enqueue(\"Glodo\")\n",
    "blockmates.enqueue(\"Liporada\")\n",
    "blockmates.enqueue(\"Sajol\")\n",
    "\n",
    "blockmates.display()\n"
   ]
  },
  {
   "cell_type": "markdown",
   "metadata": {},
   "source": [
    "2. Create a Deque"
   ]
  },
  {
   "cell_type": "code",
   "execution_count": 8,
   "metadata": {},
   "outputs": [
    {
     "name": "stdout",
     "output_type": "stream",
     "text": [
      "['Cat', 'Dog', 'Rabbit', 'Bird', 'Hamster']\n"
     ]
    }
   ],
   "source": [
    "animals = Queue()\n",
    "\n",
    "animals.enqueue(\"Cat\")\n",
    "animals.enqueue(\"Dog\")\n",
    "animals.enqueue(\"Rabbit\")\n",
    "animals.enqueue(\"Bird\")\n",
    "animals.enqueue(\"Hamster\")\n",
    "\n",
    "animals.display()"
   ]
  },
  {
   "cell_type": "code",
   "execution_count": 9,
   "metadata": {},
   "outputs": [
    {
     "name": "stdout",
     "output_type": "stream",
     "text": [
      "['Hamster', 'Bird', 'Rabbit', 'Dog', 'Cat']\n"
     ]
    }
   ],
   "source": [
    "pets = Deque()\n",
    "\n",
    "pets.addFront(animals.dequeue())\n",
    "pets.addFront(animals.dequeue())\n",
    "pets.addFront(animals.dequeue())\n",
    "pets.addFront(animals.dequeue())\n",
    "pets.addFront(animals.dequeue())\n",
    "\n",
    "print(pets.items)"
   ]
  },
  {
   "cell_type": "markdown",
   "metadata": {},
   "source": [
    "3. Create a Circular Queue"
   ]
  },
  {
   "cell_type": "code",
   "execution_count": 10,
   "metadata": {},
   "outputs": [
    {
     "name": "stdout",
     "output_type": "stream",
     "text": [
      "I II III IV V VI VII VIII IX X XI XII \n"
     ]
    }
   ],
   "source": [
    "clockqueue = CircularQueue(12)\n",
    "\n",
    "clockqueue.enqueue(\"I\")\n",
    "clockqueue.enqueue(\"II\")\n",
    "clockqueue.enqueue(\"III\")\n",
    "clockqueue.enqueue(\"IV\")\n",
    "clockqueue.enqueue(\"V\")\n",
    "clockqueue.enqueue(\"VI\")\n",
    "clockqueue.enqueue(\"VII\")\n",
    "clockqueue.enqueue(\"VIII\")\n",
    "clockqueue.enqueue(\"IX\")\n",
    "clockqueue.enqueue(\"X\")\n",
    "clockqueue.enqueue(\"XI\")\n",
    "clockqueue.enqueue(\"XII\")\n",
    "\n",
    "clockqueue.printCQueue()"
   ]
  },
  {
   "cell_type": "markdown",
   "metadata": {},
   "source": [
    "4. Create a Priority Queue"
   ]
  },
  {
   "cell_type": "code",
   "execution_count": 11,
   "metadata": {},
   "outputs": [
    {
     "name": "stdout",
     "output_type": "stream",
     "text": [
      "['Cat', 'Dog', 'Rabbit', 'Bird', 'Hamster']\n"
     ]
    }
   ],
   "source": [
    "animalspq = PriorityQueue()\n",
    "\n",
    "anml = Queue()\n",
    "anml.enqueue(\"Cat\")\n",
    "anml.enqueue(\"Dog\")\n",
    "anml.enqueue(\"Rabbit\")\n",
    "anml.enqueue(\"Bird\")\n",
    "anml.enqueue(\"Hamster\")\n",
    "\n",
    "anml.display()"
   ]
  },
  {
   "cell_type": "code",
   "execution_count": 12,
   "metadata": {},
   "outputs": [
    {
     "name": "stdout",
     "output_type": "stream",
     "text": [
      "Hamster Bird Rabbit Dog Cat "
     ]
    }
   ],
   "source": [
    "animalspq.push(anml.dequeue(), 4)\n",
    "animalspq.push(anml.dequeue(), 3)\n",
    "animalspq.push(anml.dequeue(), 2)\n",
    "animalspq.push(anml.dequeue(), 1)\n",
    "animalspq.push(anml.dequeue(), 0)\n",
    "\n",
    "animalspq.traverse()"
   ]
  },
  {
   "cell_type": "markdown",
   "metadata": {},
   "source": [
    "5. Create a Sorted Circular Queue"
   ]
  },
  {
   "cell_type": "code",
   "execution_count": 13,
   "metadata": {},
   "outputs": [
    {
     "name": "stdout",
     "output_type": "stream",
     "text": [
      "1 2 3 4 5 6 7 8 9 10 11 12 \n"
     ]
    }
   ],
   "source": [
    "number = Queue()\n",
    "\n",
    "number.enqueue(1)\n",
    "number.enqueue(12)\n",
    "number.enqueue(10)\n",
    "number.enqueue(9)\n",
    "number.enqueue(2)\n",
    "number.enqueue(4)\n",
    "number.enqueue(6)\n",
    "number.enqueue(8)\n",
    "number.enqueue(3)\n",
    "number.enqueue(7)\n",
    "number.enqueue(5)\n",
    "number.enqueue(11)\n",
    "\n",
    "num_circular = CircularQueue(12)\n",
    "\n",
    "count = 1\n",
    "\n",
    "while (number.size() != 0):\n",
    "    if (number.peek() == count):\n",
    "        num_circular.enqueue(number.dequeue())\n",
    "        count = count + 1\n",
    "    else:\n",
    "        number.enqueue(number.dequeue())\n",
    "num_circular.printCQueue()"
   ]
  }
 ],
 "metadata": {
  "kernelspec": {
   "display_name": "Python 3",
   "language": "python",
   "name": "python3"
  },
  "language_info": {
   "codemirror_mode": {
    "name": "ipython",
    "version": 3
   },
   "file_extension": ".py",
   "mimetype": "text/x-python",
   "name": "python",
   "nbconvert_exporter": "python",
   "pygments_lexer": "ipython3",
   "version": "3.11.5"
  },
  "orig_nbformat": 4
 },
 "nbformat": 4,
 "nbformat_minor": 2
}
