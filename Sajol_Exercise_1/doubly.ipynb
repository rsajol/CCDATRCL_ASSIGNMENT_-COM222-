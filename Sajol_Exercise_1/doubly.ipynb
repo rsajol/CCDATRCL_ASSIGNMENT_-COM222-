{
 "cells": [
  {
   "cell_type": "markdown",
   "metadata": {},
   "source": [
    "DOUBLY LINKED LIST"
   ]
  },
  {
   "cell_type": "markdown",
   "metadata": {},
   "source": [
    "STEP 1: CREATE A NODE CLASS"
   ]
  },
  {
   "cell_type": "code",
   "execution_count": 6,
   "metadata": {},
   "outputs": [],
   "source": [
    "class Node:\n",
    "    def __init__(self,data):\n",
    "        self.data = data\n",
    "        self.next = None\n",
    "        self.prev = None"
   ]
  },
  {
   "cell_type": "markdown",
   "metadata": {},
   "source": [
    "STEP 2: CREATE A DOUBLY LINKED LIST"
   ]
  },
  {
   "cell_type": "code",
   "execution_count": 7,
   "metadata": {},
   "outputs": [],
   "source": [
    "class DoublyLinkedList:\n",
    "    \n",
    "    def __init__(self):\n",
    "        self.head = None\n",
    "        \n",
    "    def traverse (self, node):\n",
    "        while node:\n",
    "         print (node.data, end=\" -> \" )\n",
    "         node = node.next\n",
    "    \n",
    "    def traverse_in_reverse (self, node):\n",
    "        while node:\n",
    "            print (node.data, end=\" -> \" )\n",
    "            node = node.prev"
   ]
  },
  {
   "cell_type": "markdown",
   "metadata": {},
   "source": [
    "STEP 3: CREATE A NEW INSTANCE OF THE DoublyLinkedList CLASS"
   ]
  },
  {
   "cell_type": "code",
   "execution_count": 8,
   "metadata": {},
   "outputs": [],
   "source": [
    "doubly_linked_list = DoublyLinkedList()"
   ]
  },
  {
   "cell_type": "markdown",
   "metadata": {},
   "source": [
    "STEP 4: CREATE EACH NODE"
   ]
  },
  {
   "cell_type": "code",
   "execution_count": 9,
   "metadata": {},
   "outputs": [],
   "source": [
    "doubly_linked_list.head = Node (\"Rov\")\n",
    "node_b = Node (\"Rimon\")\n",
    "node_c = Node (\"Liporada\")\n",
    "node_d = Node (\"Manjares\")\n",
    "node_e = Node (\"Glodo\")"
   ]
  },
  {
   "cell_type": "markdown",
   "metadata": {},
   "source": [
    "STEP 5: CONNECT EACH NODE"
   ]
  },
  {
   "cell_type": "code",
   "execution_count": 10,
   "metadata": {},
   "outputs": [],
   "source": [
    "doubly_linked_list.prev = None\n",
    "doubly_linked_list.head.next = node_b\n",
    "\n",
    "node_b.prev = doubly_linked_list.head\n",
    "node_b.next = node_c\n",
    "\n",
    "node_c.prev = node_b\n",
    "node_c.next = node_d\n",
    "\n",
    "node_d.prev = node_c\n",
    "node_d.next = node_e\n",
    "\n",
    "node_e.prev = node_d\n",
    "node_e.next = None"
   ]
  },
  {
   "cell_type": "code",
   "execution_count": 11,
   "metadata": {},
   "outputs": [
    {
     "name": "stdout",
     "output_type": "stream",
     "text": [
      "Rov -> Rimon -> Liporada -> Manjares -> Glodo -> "
     ]
    }
   ],
   "source": [
    "doubly_linked_list.traverse(doubly_linked_list.head)"
   ]
  },
  {
   "cell_type": "code",
   "execution_count": 12,
   "metadata": {},
   "outputs": [
    {
     "name": "stdout",
     "output_type": "stream",
     "text": [
      "Glodo -> Manjares -> Liporada -> Rimon -> Rov -> "
     ]
    }
   ],
   "source": [
    "doubly_linked_list.traverse_in_reverse(node_e)"
   ]
  }
 ],
 "metadata": {
  "kernelspec": {
   "display_name": "Python 3",
   "language": "python",
   "name": "python3"
  },
  "language_info": {
   "codemirror_mode": {
    "name": "ipython",
    "version": 3
   },
   "file_extension": ".py",
   "mimetype": "text/x-python",
   "name": "python",
   "nbconvert_exporter": "python",
   "pygments_lexer": "ipython3",
   "version": "3.11.5"
  },
  "orig_nbformat": 4
 },
 "nbformat": 4,
 "nbformat_minor": 2
}
